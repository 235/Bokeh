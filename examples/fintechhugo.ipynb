{
 "metadata": {
  "name": "fintechhugo"
 },
 "nbformat": 3,
 "nbformat_minor": 0,
 "worksheets": [
  {
   "cells": [
    {
     "cell_type": "code",
     "collapsed": false,
     "input": [
      "import json\n",
      "import datetime\n",
      "import requests\n",
      "import pandas as pd\n",
      "import numpy as np\n",
      "length=300\n",
      "ticks = pd.DataFrame(np.zeros((0, 4)), columns=['row', 'bid', 'ask', 'instrument'])\n",
      "prices = 100 + np.cumprod(1 + np.random.randn(length)/100.0)\n",
      "for i, val in enumerate(prices):\n",
      "    ticks = ticks.append({'row' : i, 'bid': val + 0.01,'ask': val - 0.01, 'instrument': 'BOO'},ignore_index=True)\n"
     ],
     "language": "python",
     "metadata": {},
     "outputs": []
    },
    {
     "cell_type": "code",
     "collapsed": false,
     "input": [
      "from bokeh import mpl, bbmodel\n",
      "import pandas\n",
      "p = mpl.PlotClient('defaultuser', serverloc='http://localhost:5006', userapikey='nokey')\n",
      "p.use_doc('widgetdemo')"
     ],
     "language": "python",
     "metadata": {},
     "outputs": []
    },
    {
     "cell_type": "code",
     "collapsed": false,
     "input": [
      "p.notebooksources()\n",
      "p.notebook_connect()"
     ],
     "language": "python",
     "metadata": {},
     "outputs": []
    },
    {
     "cell_type": "code",
     "collapsed": false,
     "input": [
      "table = p.pandastable(ticks)\n",
      "inputwidget = p.inputwidget([{'name' : 'lag1', 'type' : 'int'}, {'name' : 'lag2', 'type' : 'int'}]) \n",
      "table.pivotmodel.set('inputwidget', inputwidget.inputwidget.ref())\n",
      "table.pivotmodel.inputwidget = inputwidget.inputwidget\n",
      "table.pivotmodel.update()"
     ],
     "language": "python",
     "metadata": {},
     "outputs": []
    },
    {
     "cell_type": "code",
     "collapsed": false,
     "input": [
      "table.pull()\n",
      "p.plot('row', 'mid', data_source=table.pivotmodel, width=500, height=300)\n",
      "p.plot('row', 'ma1', data_source=table.pivotmodel)\n",
      "p.plot('row', 'ma2', data_source=table.pivotmodel)\n",
      "print 'foo'"
     ],
     "language": "python",
     "metadata": {},
     "outputs": []
    },
    {
     "cell_type": "code",
     "collapsed": false,
     "input": [
      "def animate():\n",
      "    newyield = 1 + np.random.randn(1)/10000.0\n",
      "    print newyield\n",
      "    ticks.bid[:-1] = ticks.bid[1:]\n",
      "    ticks.ask[:-1] = ticks.ask[1:]\n",
      "    ticks.bid[-1:] = ticks.bid[-1:] * newyield\n",
      "    ticks.ask[-1:] = ticks.ask[-1:] * newyield\n",
      "    table.pivotmodel.pandassource.set_data()  \n",
      "    table.pivotmodel.pandassource.update()\n",
      "    inputwidget.pull()\n",
      "    table.update()\n",
      "animate()"
     ],
     "language": "python",
     "metadata": {},
     "outputs": []
    },
    {
     "cell_type": "code",
     "collapsed": false,
     "input": [
      "for c in range(100):\n",
      "    animate()\n",
      "    import time\n",
      "    time.sleep(1)\n",
      "    "
     ],
     "language": "python",
     "metadata": {},
     "outputs": [
      {
       "output_type": "stream",
       "stream": "stdout",
       "text": [
        "\n",
        "[ 1.00002484]"
       ]
      },
      {
       "output_type": "stream",
       "stream": "stdout",
       "text": [
        "\n",
        "[ 0.9999652]"
       ]
      },
      {
       "output_type": "stream",
       "stream": "stdout",
       "text": [
        "\n",
        "[ 0.99989138]"
       ]
      }
     ]
    },
    {
     "cell_type": "code",
     "collapsed": false,
     "input": [],
     "language": "python",
     "metadata": {},
     "outputs": []
    }
   ],
   "metadata": {}
  }
 ]
}